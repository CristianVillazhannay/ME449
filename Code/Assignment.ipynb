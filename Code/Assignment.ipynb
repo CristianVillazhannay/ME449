{
 "cells": [
  {
   "cell_type": "code",
   "execution_count": 1,
   "metadata": {},
   "outputs": [],
   "source": [
    "import modern_robotics as mr\n",
    "import numpy as np \n",
    "import math"
   ]
  },
  {
   "cell_type": "code",
   "execution_count": 3,
   "metadata": {},
   "outputs": [
    {
     "data": {
      "text/plain": [
       "array([[ 0.        ,  1.20919958,  1.20919958],\n",
       "       [-1.20919958,  0.        ,  1.20919958],\n",
       "       [-1.20919958, -1.20919958,  0.        ]])"
      ]
     },
     "execution_count": 3,
     "metadata": {},
     "output_type": "execute_result"
    }
   ],
   "source": [
    "R = np.array([[0, 0, 1],[-1, 0, 0],[0, -1, 0]])\n",
    "ans = mr.MatrixLog3(R)\n",
    "ans"
   ]
  },
  {
   "cell_type": "code",
   "execution_count": 4,
   "metadata": {},
   "outputs": [
    {
     "data": {
      "text/plain": [
       "array([[ 0.60482045,  0.796274  , -0.01182979],\n",
       "       [ 0.46830057, -0.34361048,  0.81401868],\n",
       "       [ 0.64411707, -0.49787504, -0.58071821]])"
      ]
     },
     "execution_count": 4,
     "metadata": {},
     "output_type": "execute_result"
    }
   ],
   "source": [
    "R = np.array([[0, 0.5, -1],[-0.5, 0, 2],[1, -2, 0]])\n",
    "ans = mr.MatrixExp3(R)\n",
    "ans"
   ]
  },
  {
   "cell_type": "code",
   "execution_count": 5,
   "metadata": {},
   "outputs": [
    {
     "data": {
      "text/plain": [
       "array([[ 0. , -0.5,  2. ],\n",
       "       [ 0.5,  0. , -1. ],\n",
       "       [-2. ,  1. ,  0. ]])"
      ]
     },
     "execution_count": 5,
     "metadata": {},
     "output_type": "execute_result"
    }
   ],
   "source": [
    "omega = np.array([1, 2, 0.5]).T\n",
    "mr.VecToso3(omega)"
   ]
  },
  {
   "cell_type": "code",
   "execution_count": 6,
   "metadata": {},
   "outputs": [
    {
     "data": {
      "text/plain": [
       "array([[-0.2938183 ,  0.64690915,  0.70368982],\n",
       "       [ 0.64690915,  0.67654542, -0.35184491],\n",
       "       [-0.70368982,  0.35184491, -0.61727288]])"
      ]
     },
     "execution_count": 6,
     "metadata": {},
     "output_type": "execute_result"
    }
   ],
   "source": [
    "omega = np.array([1, 2, 0])\n",
    "omegamat= mr.VecToso3(omega)\n",
    "mr.MatrixExp3(omegamat)"
   ]
  },
  {
   "cell_type": "code",
   "execution_count": 13,
   "metadata": {},
   "outputs": [
    {
     "name": "stdout",
     "output_type": "stream",
     "text": [
      "2.0943951023931957\n"
     ]
    }
   ],
   "source": [
    "R = np.array([[0, 1, 0],[0, 0, 1],[1, 0, 0]])\n",
    "omg = mr.MatrixLog3(R)\n",
    "omega = mr.so3ToVec(omg)\n",
    "omghat, theta = mr.AxisAng3(omega)\n",
    "print(theta)\n"
   ]
  },
  {
   "cell_type": "code",
   "execution_count": 68,
   "metadata": {},
   "outputs": [
    {
     "name": "stdout",
     "output_type": "stream",
     "text": [
      "2.0943951023931957\n"
     ]
    }
   ],
   "source": [
    "##Question 1 on Chapters 3.3, 3.4 \n",
    "#Write the transformation matrix T_sa\n",
    "np.array([[0, -1,  0, 0],\n",
    "          [0,  0, -1, 0],\n",
    "          [1,  0,  0, 1],\n",
    "          [0,  0,  0, 1]])\n",
    "\n",
    "#Write the transformation matrix T_sb\n",
    "R_sb = np.array([[1, 0, 0],\n",
    "                 [0, 0, 1],\n",
    "                 [0, -1, 0]])\n",
    "p_sb = np.array([0, 2, 0]).T\n",
    "T_sb = mr.RpToTrans(R_sb, p_sb)\n",
    "invT_sb = mr.TransInv(T_sb)\n",
    "\n",
    "#Write the transformation matrix T_ab \n",
    "R_sa = R_sb = np.array([[0, -1, 0],\n",
    "                        [0, 0, -1],\n",
    "                        [1, 0, 0]])\n",
    "p_sa = np.array([0, 0, 1]).T\n",
    "T_sa = mr.RpToTrans(R_sa, p_sa)\n",
    "invT_sa = mr.TransInv(T_sa)\n",
    "T_ab = invT_sa @ T_sb\n",
    "\n",
    "#Use T_sb to change the representation of \n",
    "p_b = np.array([1, 2, 3, 1]).T #transform to homogenous coordinates\n",
    "p_s = T_sb @ p_b\n",
    "\n",
    "#What is the representation of V_a?\n",
    "V_s = np.array([3,2,1,-1,-2,-3]).T\n",
    "V_a = mr.Adjoint(invT_sa) @ V_s\n",
    "\n",
    "#Calculate the matrix logarithm of T_sa. Write the rotation amount of theta in rad.\n",
    "T6_sa = mr.MatrixLog6(T_sa)\n",
    "T6_vec = mr.se3ToVec(T6_sa)\n",
    "S_sa, theta_sa = mr.AxisAng6(T6_vec)\n",
    "print(theta_sa)\n",
    "\n",
    "#Calculate the matrix exponential\n",
    "motion9 = np.array([0, 1, 2, 3, 0, 0]).T\n",
    "motion9_mat = mr.VecTose3(motion9)\n",
    "SEmotion9= mr.MatrixExp6(motion9_mat)\n",
    "\n",
    "#Use T_sb to change the representation of the wrench to {s} coordinates\n",
    "w_b = np.array([1, 0, 0, 2, 1, 0]).T\n",
    "A_sb = mr.Adjoint(invT_sb).T\n",
    "w_s = A_sb @ w_b\n",
    "\n",
    "#Use TransInv to calculate the inverse of the matrix\n",
    "T11 = np.array([[0, -1, 0, 3],\n",
    "                [1,  0, 0, 0],\n",
    "                [0,  0, 1, 1],\n",
    "                [0,  0, 0, 1]])\n",
    "invT11 = mr.TransInv(T11)\n",
    "\n",
    "#Write the se3 matrix corresponding to the twist \n",
    "v12 = np.array([1,0,0,0,2,3]).T\n",
    "v12_mat = mr.VecTose3(v12)\n",
    "\n",
    "#Calculate the normalized screw axis \n",
    "p13 = np.array([0, 0 ,2])\n",
    "s13 = np.array([1, 0, 0])\n",
    "h13 = 1\n",
    "screw13 = mr.ScrewToAxis(p13, s13, h13)\n",
    "\n",
    "#Use MatrixExp6 to calculate the homogenous transformation matrix \n",
    "mat14 = np.array([[0, -1.5708, 0, 2.3562],\n",
    "                  [1.578, 0, 0, -2.3562],\n",
    "                  [0, 0, 0, 1],\n",
    "                  [0, 0, 0, 0]])\n",
    "expmat14 = mr.MatrixExp6(mat14)\n",
    "roundedemat14 = np.round(expmat14)\n",
    "\n",
    "logmat15 = mr.MatrixLog6(roundedemat14)"
   ]
  },
  {
   "cell_type": "code",
   "execution_count": 44,
   "metadata": {},
   "outputs": [],
   "source": [
    "#Quiz on Chapter 5\n",
    "#Question 1\n",
    "s_1 = np.array([0, 0, 1, 0, 0, 0])\n",
    "s_2 = np.array([0, 0, 1, 0,-1, 0])\n",
    "s_3 = np.array([0, 0, 1, math.sin(math.radians(45)) , -(1 + math.cos(math.radians(45))), 0])\n",
    "j_s = np.zeros((6,3))\n",
    "j_s[:,0] = s_1\n",
    "j_s[:,1] = s_2\n",
    "j_s[:,2] = s_3\n",
    "# print(j_s)\n",
    "# print(j_s.T @ np.array([0, 0, 0, 2, 0, 0]).T)\n",
    "\n",
    "#Question2\n",
    "t1, t2  = 0, 0\n",
    "t3 = np.pi/2\n",
    "t4 = -np.pi/2\n",
    "j_b = np.array([[0, 0, 0, 0],\n",
    "                [0, 0, 0, 0],\n",
    "                [1, 1, 1, 1],\n",
    "                [np.sin(t4) + np.sin(t3 + t4) + np.sin(t2+t3+t4), np.sin(t4) + np.sin(t3 + t4), np.sin(t4), 0],\n",
    "                [1 + np.cos(t4)+ np.cos(t3+t4) + np.cos(t2 + t3 + t4), 1 + np.cos(t4) + np.cos(t3 + t4), 1 + np.cos(t4), 1],\n",
    "                [0, 0, 0, 0]])\n",
    "# print(j_b)\n",
    "# j_b.T @ np.array([0, 0, 10, 10, 10, 0]).T\n",
    "\n",
    "#Question 3\n",
    "j_b = np.zeros((6,3))\n",
    "b_1 = np.array([0, 0, 1, 0, 0, 0])\n",
    "b_2 = np.array([1, 0, 0, 0, 2, 0])\n",
    "b_3 = np.array([0, 0, 0, 0, 1, 0])\n",
    "j_b[:,0] = b_1\n",
    "j_b[:,1] = b_2\n",
    "j_b[:,2] = b_3\n",
    "\n",
    "t_list = np.array([math.radians(90), math.radians(90), 1])\n",
    "j_space = mr.JacobianSpace(j_b, t_list)\n",
    "# print(j_space)\n",
    "\n",
    "#Question 4\n",
    "j_b = np.zeros((6,3))\n",
    "b_1 = np.array([0, 1, 0, 3, 0, 0])\n",
    "b_2 = np.array([-1, 0, 0, 0, 3, 0])\n",
    "b_3 = np.array([0, 0, 0, 0, 0, 1])\n",
    "j_b[:,0] = b_1\n",
    "j_b[:,1] = b_2\n",
    "j_b[:,2] = b_3\n",
    "\n",
    "t_list = np.array([math.radians(90), math.radians(90), 1])\n",
    "j_body = mr.JacobianBody(j_b, t_list)\n",
    "# print(j_body)\n",
    "\n",
    "#Question 5    \n",
    "j_b = np.array([[     0,     -1,     0,      0,    -1,     0, 0],\n",
    "                [     0,      0,     1,      0,     0,     1, 0],\n",
    "                [     1,      0,     0,      1,     0,     0, 1],\n",
    "                [-0.105,      0, 0.006, -0.045,     0, 0.006, 0],\n",
    "                [-0.889,  0.006,     0, -0.844, 0.006,     0, 0],\n",
    "                [     0, -0.105, 0.889,      0,     0,     0, 0]])\n",
    "\n",
    "j_v = j_b[3:6,:]\n",
    "A = j_v @ j_v.T\n",
    "#Find the eigenvalues and vectors for the linear velocity Jacobian\n",
    "eig_val, eig_vec = np.linalg.eig(A)\n",
    "#Find the unit vector of the longest eigenval \n",
    "u_v = eig_vec[:, 1]\n",
    "#Normalize this vector to find the unit direction\n",
    "u_v_norm = u_v / np.linalg.norm(u_v)\n",
    "#Find the length of the longest principal axis.\n",
    "long_val = math.sqrt(eig_val[1])\n",
    "# print(long_val)\n",
    "# print(eig_val)\n",
    "# print(u_v_norm)\n",
    "# print(eig_vec)\n",
    "# print(u_v)\n",
    "# print(j_v)\n"
   ]
  },
  {
   "cell_type": "code",
   "execution_count": 61,
   "metadata": {},
   "outputs": [
    {
     "name": "stdout",
     "output_type": "stream",
     "text": [
      "[0.92519754 0.58622516 0.68427316]\n"
     ]
    }
   ],
   "source": [
    "#Quiz on the Newton-Raphson Method\n",
    "#Assign our starter variables.\n",
    "# xy = (x_0, y_0)\n",
    "xy = np.array([1, 1])\n",
    "\n",
    "#How many times do we want to iterate forward? i = (x**i, y**i)\n",
    "for i in range(2):\n",
    "    #Solve the function at the current position.\n",
    "    f_xy = np.array([xy[0]**2 - 9,\n",
    "                     xy[1]**2 - 4 ]).T\n",
    "\n",
    "    #This is the slope at the current point. This is also the Jacobian solved at (x_0, y_0)\n",
    "    df_xy = np.array([[2 * xy[0], 0],\n",
    "                      [0, 2 * xy[1]]])\n",
    "\n",
    "    #We need the inverted Jacobian to solve this matrix, \n",
    "    #BUT we don't have a Jacobian that is invertable? (Might not be true but either way, psuedoinverse\n",
    "    #usually is a decent approximation) and provides robustness in method. We rely \n",
    "    #on the pseudoinverse of the Jacobian instead. \n",
    "\n",
    "    #We need to find the Delta to move our point forward. \n",
    "    #Delta = pJ**(-1)(theta_0) (-1 * slope)\n",
    "    pseudoInv = np.linalg.pinv(-1 * df_xy)\n",
    "    Delta = pseudoInv @ f_xy\n",
    "\n",
    "    #Find our new point and repeat the process.\n",
    "    xy = xy + Delta \n",
    "\n",
    "\n",
    "# print(pseudoInv.shape)\n",
    "# print(Delta)\n",
    "# print(xy)\n",
    "# print(i)\n",
    "\n",
    "#Question2\n",
    "#Decided to list the Screw Axes in the Spaces frame, enabling us to use the IKinSpace\n",
    "screw_1 = np.array([0, 0, 1, 0,  0, 0])\n",
    "screw_2 = np.array([0, 0, 1, 0, -1, 0])\n",
    "screw_3 = np.array([0, 0, 1, 0, -2, 0])\n",
    "slist = np.zeros((6, 3))\n",
    "slist[:, 0] = screw_1\n",
    "slist[:, 1] = screw_2\n",
    "slist[:, 2] = screw_3\n",
    "\n",
    "#Home Configuration of the Machine\n",
    "M = np.array([[1, 0, 0, 3],\n",
    "               [0, 1, 0, 0],\n",
    "               [0, 0, 1, 0],\n",
    "               [0, 0, 0, 1]])\n",
    "\n",
    "#Creation of the Transformation Matrix we want to achieve\n",
    "T_sd = np.array([[-0.585, -0.811,  0, 0.076],\n",
    "                 [ 0.811, -0.585,  0, 2.608],\n",
    "                 [     0,      0,  1,     0],\n",
    "                 [     0,      0,  0,     1]])\n",
    "\n",
    "#Creation of our original guess\n",
    "theta_0 = np.array([0.7854, 0.7854, 0.7854])\n",
    "\n",
    "e_w = 0.001\n",
    "e_v = 0.0001\n",
    "\n",
    "[thetalist,success] = mr.IKinSpace(slist,M,T_sd,theta_0,e_w,e_v)\n",
    "print(thetalist)"
   ]
  },
  {
   "cell_type": "code",
   "execution_count": 79,
   "metadata": {},
   "outputs": [
    {
     "name": "stdout",
     "output_type": "stream",
     "text": [
      "[[-1.49643022 -1.87657801 -1.87657801]\n",
      " [-1.87657801 -1.49643022 -1.87657801]\n",
      " [-1.87657801 -1.87657801  0.37559709]]\n"
     ]
    }
   ],
   "source": [
    "# I_xx =  mass_c * (3 * r_c **2 + h **2) / 12 + 2 * mass_s * (r_s **2 + r_s **2) / 5\n",
    "# I_yy =  mass_c * (3 * r_c **2 + h **2) / 12 + 2 * mass_s * (r_s **2 + r_s **2) / 5\n",
    "# I_zz =  mass_c * (r_c **2) / 2              + 2 * mass_s * (r_s **2 + r_s **2) / 5\n",
    "import numpy as np \n",
    "\n",
    "#density \n",
    "p = 5600\n",
    "#mass of the cylindrical portion\n",
    "r_c = 0.02\n",
    "h = 0.20\n",
    "#find the volume of the cylinder and multiply by the density\n",
    "mass_c = np.pi * r_c **2 * h * p\n",
    "#mass of the spheres\n",
    "r_s = 0.10\n",
    "#volume of the sphere and multiply by the desnity\n",
    "mass_s = 4 * np.pi * r_s ** 3 / 3 * 5600\n",
    "\n",
    "#we know konw the inertia matrix for both the recdtangle and the cylinger\n",
    "irect = np.array([[mass_c * (3 * r_c **2 + h **2) / 12, 0, 0],\n",
    "                  [0, mass_c * (3 * r_c **2 + h **2) / 12, 0],\n",
    "                  [0, 0, mass_c * (r_c **2) / 2]])\n",
    "\n",
    "isphere = np.array([[2 * mass_s * (r_s **2 + r_s **2) / 5, 0, 0],\n",
    "                    [0, 2 * mass_s * (r_s **2 + r_s **2) / 5, 0],\n",
    "                    [0, 0, 2 * mass_s * (r_s **2 + r_s **2) / 5]])\n",
    "\n",
    "#rotate the spherical coordinates to align with those of the b frame\n",
    "R_sb = np.array([[0, 0 , 1],\n",
    "                 [1, 0 , 0],\n",
    "                 [0, 1 , 0]])\n",
    "\n",
    "#this is now the aligned spherical frame\n",
    "aisphere = R_sb.T @ isphere @ R_sb\n",
    "#left sphere & right sphere coordinates. Note that q = (0,0,z) of shape (1,3)\n",
    "lq = np.array([0,0, .20])[None, :]\n",
    "rq = np.array([0,0, -.20])[None,:]\n",
    "\n",
    "lsphere = aisphere + mass_s * (lq.T @ lq @ np.identity(3) - lq @ lq.T)\n",
    "rsphere = aisphere + mass_s * (rq.T @ rq @ np.identity(3) - rq @ rq.T)\n",
    "\n",
    "print(irect + lsphere + rsphere )"
   ]
  },
  {
   "cell_type": "code",
   "execution_count": 77,
   "metadata": {},
   "outputs": [
    {
     "data": {
      "text/plain": [
       "array([[0.  , 0.  , 0.  ],\n",
       "       [0.  , 0.  , 0.  ],\n",
       "       [0.  , 0.  , 0.04]])"
      ]
     },
     "execution_count": 77,
     "metadata": {},
     "output_type": "execute_result"
    }
   ],
   "source": [
    "lq.T @ lq @ np.identity(3)"
   ]
  },
  {
   "cell_type": "code",
   "execution_count": 54,
   "metadata": {},
   "outputs": [
    {
     "data": {
      "text/plain": [
       "array([ 1.27670527e-02, -4.11476981e+01, -3.78093382e+00,  3.23099099e-02,\n",
       "        3.69529049e-02,  1.03367459e-01])"
      ]
     },
     "execution_count": 54,
     "metadata": {},
     "output_type": "execute_result"
    }
   ],
   "source": [
    "theta = [0, np.pi/6, np.pi/4, np.pi/3, np.pi/2, 2*np.pi/3]\n",
    "thetadot = [0.2, 0.2,  0.2, 0.2, 0.2, 0.2]\n",
    "thetaddot = [0.1, 0.1, 0.1, 0.1, 0.1, 0.1]\n",
    "g = [0, 0, -9.81]\n",
    "vtip = [0.1, 0.1, 0.1, 0.1, 0.1, 0.1]\n",
    "\n",
    "M01 = [[1, 0, 0, 0], [0, 1, 0, 0], [0, 0, 1, 0.089159], [0, 0, 0, 1]]\n",
    "M12 = [[0, 0, 1, 0.28], [0, 1, 0, 0.13585], [-1, 0, 0, 0], [0, 0, 0, 1]]\n",
    "M23 = [[1, 0, 0, 0], [0, 1, 0, -0.1197], [0, 0, 1, 0.395], [0, 0, 0, 1]]\n",
    "M34 = [[0, 0, 1, 0], [0, 1, 0, 0], [-1, 0, 0, 0.14225], [0, 0, 0, 1]]\n",
    "M45 = [[1, 0, 0, 0], [0, 1, 0, 0.093], [0, 0, 1, 0], [0, 0, 0, 1]]\n",
    "M56 = [[1, 0, 0, 0], [0, 1, 0, 0], [0, 0, 1, 0.09465], [0, 0, 0, 1]]\n",
    "M67 = [[1, 0, 0, 0], [0, 0, 1, 0.0823], [0, -1, 0, 0], [0, 0, 0, 1]]\n",
    "G1 = np.diag([0.010267495893, 0.010267495893,  0.00666, 3.7, 3.7, 3.7])\n",
    "G2 = np.diag([0.22689067591, 0.22689067591, 0.0151074, 8.393, 8.393, 8.393])\n",
    "G3 = np.diag([0.049443313556, 0.049443313556, 0.004095, 2.275, 2.275, 2.275])\n",
    "G4 = np.diag([0.111172755531, 0.111172755531, 0.21942, 1.219, 1.219, 1.219])\n",
    "G5 = np.diag([0.111172755531, 0.111172755531, 0.21942, 1.219, 1.219, 1.219])\n",
    "G6 = np.diag([0.0171364731454, 0.0171364731454, 0.033822, 0.1879, 0.1879, 0.1879])\n",
    "Glist = [G1, G2, G3, G4, G5, G6]\n",
    "Mlist = [M01, M12, M23, M34, M45, M56, M67] \n",
    "Slist = [[0,         0,         0,         0,        0,        0],\n",
    "         [0,         1,         1,         1,        0,        1],\n",
    "         [1,         0,         0,         0,       -1,        0],\n",
    "         [0, -0.089159, -0.089159, -0.089159, -0.10915, 0.005491],\n",
    "         [0,         0,         0,         0,  0.81725,        0],\n",
    "         [0,         0,     0.425,   0.81725,        0,  0.81725]]\n",
    "\n",
    "mr.InverseDynamics(theta, thetadot, thetaddot, g, vtip, Mlist, Glist, Slist)"
   ]
  },
  {
   "cell_type": "code",
   "execution_count": 10,
   "metadata": {},
   "outputs": [
    {
     "name": "stdout",
     "output_type": "stream",
     "text": [
      "0.6825599999999996\n"
     ]
    }
   ],
   "source": [
    "#Use the function Screw Trajectory\n",
    "x_start = np.identity(4)\n",
    "x_end = np.array([[0, 0, 1, 1],\n",
    "                  [1, 0, 0, 2],\n",
    "                  [0, 1, 0, 3],\n",
    "                  [0, 0, 0, 1]])\n",
    "t_f = 10\n",
    "N = 10\n",
    "method = 3 \n",
    "\n",
    "#calculate a trajectory with 10 discrete points between the start and end times. \n",
    "traj = mr.ScrewTrajectory(x_start, x_end, t_f, N = N, method=method)\n",
    "trajCart = mr.CartesianTrajectory(x_start, x_end, t_f, N = N, method=5)\n",
    "\n",
    "#calculate the current path parameter corresponding to a motion that begins and ends \n",
    "#with zero velocity and acceleration\n",
    "s = mr.QuinticTimeScaling(5, 3)\n"
   ]
  },
  {
   "cell_type": "code",
   "execution_count": 9,
   "metadata": {},
   "outputs": [
    {
     "data": {
      "text/plain": [
       "[array([[1., 0., 0., 0.],\n",
       "        [0., 1., 0., 0.],\n",
       "        [0., 0., 1., 0.],\n",
       "        [0., 0., 0., 1.]]),\n",
       " array([[ 0.99980553, -0.01384686,  0.01404133,  0.01153279],\n",
       "        [ 0.01404133,  0.99980553, -0.01384686,  0.02306559],\n",
       "        [-0.01384686,  0.01404133,  0.99980553,  0.03459838],\n",
       "        [ 0.        ,  0.        ,  0.        ,  1.        ]]),\n",
       " array([[ 0.99148113, -0.08774296,  0.09626183,  0.07641112],\n",
       "        [ 0.09626183,  0.99148113, -0.08774296,  0.15282223],\n",
       "        [-0.08774296,  0.09626183,  0.99148113,  0.22923335],\n",
       "        [ 0.        ,  0.        ,  0.        ,  1.        ]]),\n",
       " array([[ 0.93662474, -0.21400108,  0.27737633,  0.20987654],\n",
       "        [ 0.27737633,  0.93662474, -0.21400108,  0.41975309],\n",
       "        [-0.21400108,  0.27737633,  0.93662474,  0.62962963],\n",
       "        [ 0.        ,  0.        ,  0.        ,  1.        ]]),\n",
       " array([[ 0.78284678, -0.31778776,  0.53494098,  0.3966875 ],\n",
       "        [ 0.53494098,  0.78284678, -0.31778776,  0.79337499],\n",
       "        [-0.31778776,  0.53494098,  0.78284678,  1.19006249],\n",
       "        [ 0.        ,  0.        ,  0.        ,  1.        ]]),\n",
       " array([[ 0.53494098, -0.31778776,  0.78284678,  0.6033125 ],\n",
       "        [ 0.78284678,  0.53494098, -0.31778776,  1.20662501],\n",
       "        [-0.31778776,  0.78284678,  0.53494098,  1.80993751],\n",
       "        [ 0.        ,  0.        ,  0.        ,  1.        ]]),\n",
       " array([[ 0.27737633, -0.21400108,  0.93662474,  0.79012346],\n",
       "        [ 0.93662474,  0.27737633, -0.21400108,  1.58024691],\n",
       "        [-0.21400108,  0.93662474,  0.27737633,  2.37037037],\n",
       "        [ 0.        ,  0.        ,  0.        ,  1.        ]]),\n",
       " array([[ 0.09626183, -0.08774296,  0.99148113,  0.92358888],\n",
       "        [ 0.99148113,  0.09626183, -0.08774296,  1.84717777],\n",
       "        [-0.08774296,  0.99148113,  0.09626183,  2.77076665],\n",
       "        [ 0.        ,  0.        ,  0.        ,  1.        ]]),\n",
       " array([[ 0.01404133, -0.01384686,  0.99980553,  0.98846721],\n",
       "        [ 0.99980553,  0.01404133, -0.01384686,  1.97693441],\n",
       "        [-0.01384686,  0.99980553,  0.01404133,  2.96540162],\n",
       "        [ 0.        ,  0.        ,  0.        ,  1.        ]]),\n",
       " array([[0.00000000e+00, 5.55111512e-17, 1.00000000e+00, 1.00000000e+00],\n",
       "        [1.00000000e+00, 0.00000000e+00, 5.55111512e-17, 2.00000000e+00],\n",
       "        [5.55111512e-17, 1.00000000e+00, 0.00000000e+00, 3.00000000e+00],\n",
       "        [0.00000000e+00, 0.00000000e+00, 0.00000000e+00, 1.00000000e+00]])]"
      ]
     },
     "execution_count": 9,
     "metadata": {},
     "output_type": "execute_result"
    }
   ],
   "source": [
    "trajCart"
   ]
  },
  {
   "cell_type": "code",
   "execution_count": null,
   "metadata": {},
   "outputs": [],
   "source": []
  }
 ],
 "metadata": {
  "kernelspec": {
   "display_name": "IRS_Virtual",
   "language": "python",
   "name": "irs_virtual"
  },
  "language_info": {
   "codemirror_mode": {
    "name": "ipython",
    "version": 3
   },
   "file_extension": ".py",
   "mimetype": "text/x-python",
   "name": "python",
   "nbconvert_exporter": "python",
   "pygments_lexer": "ipython3",
   "version": "3.10.4"
  },
  "orig_nbformat": 4
 },
 "nbformat": 4,
 "nbformat_minor": 2
}
