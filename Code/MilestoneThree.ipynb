{
 "cells": [
  {
   "cell_type": "code",
   "execution_count": 15,
   "metadata": {},
   "outputs": [],
   "source": [
    "#install the necessary packages \n",
    "import numpy as np\n",
    "import modern_robotics as mr "
   ]
  },
  {
   "cell_type": "code",
   "execution_count": 23,
   "metadata": {},
   "outputs": [],
   "source": [
    "def FeedbackControl(currentactEffector, currentrefEffector, nextrefEffector, pGain, iGain, dt):\n",
    "    '''\n",
    "    Parameters\n",
    "    ----------\n",
    "    currentactEffector: np.array\n",
    "        An (4,4) shaped np.array representing the current actual end effector configuration\n",
    "    \n",
    "    currentrefEffector: np.array\n",
    "        An (4,4) shaped np.array representing the current end effector reference configuration\n",
    "    \n",
    "    nextrefEffector: np.array\n",
    "        The end-effector reference configuration at the next timestep in the reference trajectory\n",
    "    \n",
    "    pGain: np.array\n",
    "        A (6,6) shaped array representing the proportional gain matrix.\n",
    "    \n",
    "    iGain: np.array\n",
    "        A (6,6) shaped array representing the integral gain matrix.\n",
    "    \n",
    "    dt: float\n",
    "        A number that represents the timestep between the reference trajectory configurations. \n",
    "\n",
    "    Output\n",
    "    -------\n",
    "    v: np.array\n",
    "        The commanded end effector twist V expressed in the end effector frame. \n",
    "    ''' \n",
    "    #SOLVE FOR THE FEEDFORWARD CONTROL LAW\n",
    "    #Solve for [AdX^-1X_d]\n",
    "    invX = mr.TransInv(currentactEffector)\n",
    "    adj = mr.Adjoint(invX @ currentrefEffector)\n",
    "\n",
    "    #Solve for V_d \n",
    "    invX_d = mr.TransInv(currentrefEffector)\n",
    "    vdse3 = 1/dt * mr.MatrixLog6(invX_d @ nextrefEffector)\n",
    "    v_d = mr.se3ToVec(vdse3)\n",
    "\n",
    "    #Solve for X_err\n",
    "    xerr_se3 = mr.MatrixLog6(invX @ currentrefEffector)\n",
    "    x_err = mr.se3ToVec(xerr_se3)\n",
    "\n",
    "    #SOLVE FOR THE COMMANDED VECTOR\n",
    "    v = adj @ v_d + pGain @ x_err + iGain @ (x_err * dt)\n",
    "    \n",
    "    return v \n"
   ]
  },
  {
   "cell_type": "code",
   "execution_count": 30,
   "metadata": {},
   "outputs": [],
   "source": [
    "x_d = np.array([[0, 0, 1, 0.5],\n",
    "                [0, 1, 0, 0],\n",
    "                [-1, 0, 0, 0.5],\n",
    "                [0, 0, 0, 1]])\n",
    "\n",
    "x_dnext = np.array([[0, 0, 1, 0.6],\n",
    "                    [0, 1, 0, 0],\n",
    "                    [-1, 0, 0, 0.3],\n",
    "                    [0, 0, 0, 1]])\n",
    "\n",
    "x = np.array([[0.170, 0, 0.985, 0.387],\n",
    "              [0, 1, 0, 0],\n",
    "              [-0.985, 0, 0.170, 0.570],\n",
    "              [0, 0, 0, 1]])\n",
    "\n",
    "Kp = np.identity((6))\n",
    "Ki = np.zeros((6))\n",
    "dt = 0.01\n",
    "\n",
    "v = FeedbackControl(x, x_d, x_dnext, Kp, Ki, dt)"
   ]
  },
  {
   "cell_type": "code",
   "execution_count": 1,
   "metadata": {},
   "outputs": [
    {
     "ename": "NameError",
     "evalue": "name 'np' is not defined",
     "output_type": "error",
     "traceback": [
      "\u001b[0;31m---------------------------------------------------------------------------\u001b[0m",
      "\u001b[0;31mNameError\u001b[0m                                 Traceback (most recent call last)",
      "\u001b[0;32m/var/folders/7w/_9tcnxcs6ld28_h3sl__ch380000gn/T/ipykernel_1965/119682355.py\u001b[0m in \u001b[0;36m<module>\u001b[0;34m\u001b[0m\n\u001b[1;32m      1\u001b[0m \u001b[0;31m#SOLVE FOR THE COMMANDED WHEEL AND ARM TORQUES\u001b[0m\u001b[0;34m\u001b[0m\u001b[0;34m\u001b[0m\u001b[0m\n\u001b[1;32m      2\u001b[0m \u001b[0;31m#write the Body Jacobian\u001b[0m\u001b[0;34m\u001b[0m\u001b[0;34m\u001b[0m\u001b[0m\n\u001b[0;32m----> 3\u001b[0;31m blist = np.array([[    0,       0,       0,       0, 0],\n\u001b[0m\u001b[1;32m      4\u001b[0m                   \u001b[0;34m[\u001b[0m    \u001b[0;36m0\u001b[0m\u001b[0;34m,\u001b[0m      \u001b[0;34m-\u001b[0m\u001b[0;36m1\u001b[0m\u001b[0;34m,\u001b[0m      \u001b[0;34m-\u001b[0m\u001b[0;36m1\u001b[0m\u001b[0;34m,\u001b[0m      \u001b[0;34m-\u001b[0m\u001b[0;36m1\u001b[0m\u001b[0;34m,\u001b[0m \u001b[0;36m0\u001b[0m\u001b[0;34m]\u001b[0m\u001b[0;34m,\u001b[0m\u001b[0;34m\u001b[0m\u001b[0;34m\u001b[0m\u001b[0m\n\u001b[1;32m      5\u001b[0m                   \u001b[0;34m[\u001b[0m    \u001b[0;36m1\u001b[0m\u001b[0;34m,\u001b[0m       \u001b[0;36m0\u001b[0m\u001b[0;34m,\u001b[0m       \u001b[0;36m0\u001b[0m\u001b[0;34m,\u001b[0m       \u001b[0;36m0\u001b[0m\u001b[0;34m,\u001b[0m \u001b[0;36m1\u001b[0m\u001b[0;34m]\u001b[0m\u001b[0;34m,\u001b[0m\u001b[0;34m\u001b[0m\u001b[0;34m\u001b[0m\u001b[0m\n",
      "\u001b[0;31mNameError\u001b[0m: name 'np' is not defined"
     ]
    }
   ],
   "source": [
    "#SOLVE FOR THE COMMANDED WHEEL AND ARM TORQUES\n",
    "#write the Body Jacobian \n",
    "blist = np.array([[    0,       0,       0,       0, 0],\n",
    "                  [    0,      -1,      -1,      -1, 0],\n",
    "                  [    1,       0,       0,       0, 1],\n",
    "                  [    0, -0.5076, -0.3526, -0.2176, 0],\n",
    "                  [0.033,       0,       0,       0, 0],\n",
    "                  [    0,       0,       0,       0, 0]])\n",
    "\n",
    "M_0e = np.array([[1, 0, 0, 0.033],\n",
    "                 [0, 1, 0, 0],\n",
    "                 [0, 0, 1, 0.6546],\n",
    "                 [0, 0, 0, 1]])\n",
    "\n",
    "thetalist = np.array([0,0,0.2,-1.6,0])\n",
    "\n",
    "#will change based on the current angle configuration that its at\n",
    "Jb = mr.JacobianBody(blist, thetalist)\n",
    "\n",
    "#find the Base Jacobian\n",
    "#hardcoded kinematics\n",
    "r = 0.0475\n",
    "l = 0.235\n",
    "w = 0.15\n",
    "F = (r/4) * np.array([[-1/(l+w), 1/(l+w), 1/(l+w), -1/(l+w)],\n",
    "                      [       1,       1,       1,        1],\n",
    "                      [      -1,       1,      -1,        1]])\n",
    "\n",
    "#create the F6 vector\n",
    "F6 = np.vstack((np.zeros((2,4)), F, np.zeros((1,4))))\n",
    "\n",
    "#create the transformation we need to find the \n",
    "T_b0 = np.array([[1, 0, 0, 0.1662],\n",
    "                 [0, 1, 0, 0],\n",
    "                 [0, 0, 1, 0.0026],\n",
    "                 [0, 0, 0, 1]])\n",
    "\n",
    "invT_b0 = mr.TransInv(T_b0)\n",
    "T_0e = mr.FKinBody(M_0e, blist, thetalist )\n",
    "invT_0e = mr.TransInv(T_0e)\n",
    "\n",
    "J_base = mr.Adjoint(invT_0e @ invT_b0) @ F6\n",
    "J_e = np.hstack((J_base, Jb))\n",
    "\n",
    "command = np.linalg.pinv(J_e) @ v "
   ]
  },
  {
   "cell_type": "code",
   "execution_count": null,
   "metadata": {},
   "outputs": [],
   "source": []
  },
  {
   "cell_type": "code",
   "execution_count": null,
   "metadata": {},
   "outputs": [],
   "source": []
  }
 ],
 "metadata": {
  "kernelspec": {
   "display_name": "IRS_Virtual",
   "language": "python",
   "name": "irs_virtual"
  },
  "language_info": {
   "codemirror_mode": {
    "name": "ipython",
    "version": 3
   },
   "file_extension": ".py",
   "mimetype": "text/x-python",
   "name": "python",
   "nbconvert_exporter": "python",
   "pygments_lexer": "ipython3",
   "version": "3.10.4"
  }
 },
 "nbformat": 4,
 "nbformat_minor": 2
}
